{
  "nbformat": 4,
  "nbformat_minor": 0,
  "metadata": {
    "colab": {
      "provenance": [],
      "authorship_tag": "ABX9TyP6URl2uEljvhHqCx17fOV9",
      "include_colab_link": true
    },
    "kernelspec": {
      "name": "python3",
      "display_name": "Python 3"
    },
    "language_info": {
      "name": "python"
    }
  },
  "cells": [
    {
      "cell_type": "markdown",
      "metadata": {
        "id": "view-in-github",
        "colab_type": "text"
      },
      "source": [
        "<a href=\"https://colab.research.google.com/github/Jasmeetk05/MINI-PROJECT-25/blob/main/Copy_of_Untitled33.ipynb\" target=\"_parent\"><img src=\"https://colab.research.google.com/assets/colab-badge.svg\" alt=\"Open In Colab\"/></a>"
      ]
    },
    {
      "cell_type": "code",
      "execution_count": null,
      "metadata": {
        "id": "6PHbuwuEWhz5"
      },
      "outputs": [],
      "source": [
        "output_video = 'output_grayscale.mp4'\n"
      ]
    },
    {
      "cell_type": "code",
      "source": [
        "import cv2\n",
        "import os\n",
        "\n",
        "input_video = 'input_video.mp4'     # Upload this file to Colab\n",
        "output_video = 'output_grayscale.mp4'\n",
        "\n",
        "# Open input video\n",
        "cap = cv2.VideoCapture(input_video)\n",
        "\n",
        "if not cap.isOpened():\n",
        "    print(\"❌ Error: Cannot open input video.\")\n",
        "else:\n",
        "    frame_width  = int(cap.get(cv2.CAP_PROP_FRAME_WIDTH))\n",
        "    frame_height = int(cap.get(cv2.CAP_PROP_FRAME_HEIGHT))\n",
        "    fps          = cap.get(cv2.CAP_PROP_FPS)\n",
        "    fourcc       = cv2.VideoWriter_fourcc(*'mp4v')\n",
        "\n",
        "    out = cv2.VideoWriter(output_video, fourcc, fps, (frame_width, frame_height), isColor=False)\n",
        "\n",
        "    print(\"🎥 Processing...\")\n",
        "\n",
        "    while True:\n",
        "        ret, frame = cap.read()\n",
        "        if not ret:\n",
        "            break\n",
        "        gray = cv2.cvtColor(frame, cv2.COLOR_BGR2GRAY)\n",
        "        out.write(gray)\n",
        "\n",
        "    cap.release()\n",
        "    out.release()\n",
        "    print(\"✅ Done. Grayscale video saved.\")\n",
        "\n",
        "    # Download file\n",
        "    from google.colab import files\n",
        "    files.download(output_video)\n"
      ],
      "metadata": {
        "colab": {
          "base_uri": "https://localhost:8080/"
        },
        "id": "8eJCeI9LW6_9",
        "outputId": "6dd9a227-4890-43ac-e45e-e94c67a192c0"
      },
      "execution_count": null,
      "outputs": [
        {
          "output_type": "stream",
          "name": "stdout",
          "text": [
            "❌ Error: Cannot open input video.\n"
          ]
        }
      ]
    }
  ]
}